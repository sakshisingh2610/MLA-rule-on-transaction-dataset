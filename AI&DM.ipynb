{
 "cells": [
  {
   "cell_type": "markdown",
   "id": "4324afb0",
   "metadata": {},
   "source": [
    "import numpy as np\n",
    "import pandas as pd\n",
    "from mlxtend.frequent_patterns import apriori, association_rules"
   ]
  },
  {
   "cell_type": "markdown",
   "id": "7be979ea",
   "metadata": {},
   "source": [
    "# Loading the Data\n",
    "data = pd.read_csv(\"C:\\\\Users\\\\DELL\\\\Downloads\\\\Online_Retail.csv\\\\Online_Retail.csv\")\n",
    "data.head()"
   ]
  },
  {
   "cell_type": "markdown",
   "id": "2dbc16f6",
   "metadata": {},
   "source": [
    "# Exploring the columns of the data\n",
    "data.columns"
   ]
  },
  {
   "cell_type": "markdown",
   "id": "11581596",
   "metadata": {},
   "source": [
    "# Exploring the different regions of transactions\n",
    "data.Country.unique()"
   ]
  },
  {
   "cell_type": "markdown",
   "id": "56d17bc1",
   "metadata": {},
   "source": [
    "# Stripping extra spaces in the description\n",
    "data['Description'] = data['Description'].str.strip()\n"
   ]
  },
  {
   "cell_type": "markdown",
   "id": "9f655a98",
   "metadata": {},
   "source": [
    "# Dropping the rows without any invoice number\n",
    "data.dropna(axis = 0, subset =['InvoiceNo'], inplace = True)\n",
    "data['InvoiceNo'] = data['InvoiceNo'].astype('str')"
   ]
  },
  {
   "cell_type": "markdown",
   "id": "eda1c3c5",
   "metadata": {},
   "source": [
    "# Dropping all transactions which were done on credit\n",
    "data = data[~data['InvoiceNo'].str.contains('C')]"
   ]
  },
  {
   "cell_type": "markdown",
   "id": "c1d2f05a",
   "metadata": {},
   "source": [
    "# Transactions done in France\n",
    "basket_France = (data[data['Country'] ==\"France\"]\n",
    "\t\t.groupby(['InvoiceNo', 'Description'])['Quantity']\n",
    "\t\t.sum().unstack().reset_index().fillna(0)\n",
    "\t\t.set_index('InvoiceNo'))\n",
    "\n",
    "# Transactions done in the United Kingdom\n",
    "basket_UK = (data[data['Country'] ==\"United Kingdom\"]\n",
    "\t\t.groupby(['InvoiceNo', 'Description'])['Quantity']\n",
    "\t\t.sum().unstack().reset_index().fillna(0)\n",
    "\t\t.set_index('InvoiceNo'))\n",
    "\n",
    "# Transactions done in Portugal\n",
    "basket_Por = (data[data['Country'] ==\"Portugal\"]\n",
    "\t\t.groupby(['InvoiceNo', 'Description'])['Quantity']\n",
    "\t\t.sum().unstack().reset_index().fillna(0)\n",
    "\t\t.set_index('InvoiceNo'))\n",
    "\n",
    "basket_Sweden = (data[data['Country'] ==\"Sweden\"]\n",
    "\t\t.groupby(['InvoiceNo', 'Description'])['Quantity']\n",
    "\t\t.sum().unstack().reset_index().fillna(0)\n",
    "\t\t.set_index('InvoiceNo'))\n"
   ]
  },
  {
   "cell_type": "markdown",
   "id": "3ac40a96",
   "metadata": {},
   "source": [
    "# Defining the hot encoding function to make the data suitable\n",
    "# for the concerned libraries\n",
    "def hot_encode(x):\n",
    "\tif(x<= 0):\n",
    "\t\treturn 0\n",
    "\tif(x>= 1):\n",
    "\t\treturn 1\n",
    "    \n",
    "# Encoding the datasets\n",
    "basket_encoded = basket_France.applymap(hot_encode)\n",
    "basket_France = basket_encoded\n",
    "\n",
    "basket_encoded = basket_UK.applymap(hot_encode)\n",
    "basket_UK = basket_encoded\n",
    "\n",
    "basket_encoded = basket_Por.applymap(hot_encode)\n",
    "basket_Por = basket_encoded\n",
    "\n",
    "basket_encoded = basket_Sweden.applymap(hot_encode)\n",
    "basket_Sweden = basket_encoded"
   ]
  },
  {
   "cell_type": "markdown",
   "id": "b7eea5f6",
   "metadata": {},
   "source": [
    "# Building the model\n",
    "frq_items = apriori(basket_France, min_support = 0.05, use_colnames = True)"
   ]
  },
  {
   "cell_type": "markdown",
   "id": "12431a0e",
   "metadata": {},
   "source": [
    "#France\n",
    "# Collecting the inferred rules in a dataframe\n",
    "rules = association_rules(frq_items, metric =\"lift\", min_threshold = 1)\n",
    "rules = rules.sort_values(['confidence', 'lift'], ascending =[False, False])\n",
    "print(rules.head())"
   ]
  },
  {
   "cell_type": "markdown",
   "id": "f1673123",
   "metadata": {},
   "source": [
    "#UK\n",
    "frq_items = apriori(basket_UK, min_support = 0.01, use_colnames = True, low_memory=True)\n",
    "rules = association_rules(frq_items, metric =\"lift\", min_threshold = 1)\n",
    "rules = rules.sort_values(['confidence', 'lift'], ascending =[False, False])\n",
    "print(rules.head())"
   ]
  },
  {
   "cell_type": "markdown",
   "id": "56df881c",
   "metadata": {},
   "source": [
    "#Portugal\n",
    "frq_items = apriori(basket_Por, min_support = 0.05, use_colnames = True)\n",
    "rules = association_rules(frq_items, metric =\"lift\", min_threshold = 1)\n",
    "rules = rules.sort_values(['confidence', 'lift'], ascending =[False, False])\n",
    "print(rules.head())\n",
    "\n",
    "\n"
   ]
  },
  {
   "cell_type": "markdown",
   "id": "95b287d0",
   "metadata": {},
   "source": [
    "#sweden\n",
    "frq_items = apriori(basket_Sweden, min_support = 0.05, use_colnames = True)\n",
    "rules = association_rules(frq_items, metric =\"lift\", min_threshold = 1)\n",
    "rules = rules.sort_values(['confidence', 'lift'], ascending =[False, False])\n",
    "print(rules.head())"
   ]
  },
  {
   "cell_type": "markdown",
   "id": "26a5fbe0",
   "metadata": {},
   "source": [
    "import networkx as nx\n",
    "import matplotlib.pyplot as plt\n",
    "\n",
    "# Generate the association rules\n",
    "association_rules = association_rules(frq_items, metric=\"lift\", min_threshold=1)\n",
    "\n",
    "# Convert the association rules to a list\n",
    "association_rules_list = list(association_rules)\n",
    "\n",
    "# Create a networkx graph\n",
    "G = nx.Graph()\n",
    "\n",
    "# Add the association rules to the graph\n",
    "for rule in association_rules_list:\n",
    "    antecedents = rule[0]\n",
    "    consequents = rule[1]\n",
    "\n",
    "    for antecedent in antecedents:\n",
    "        for consequent in consequents:\n",
    "            G.add_edge(antecedent, consequent)\n",
    "\n",
    "# Plot the graph\n",
    "nx.draw_networkx(G)\n",
    "plt.show()\n",
    "\n"
   ]
  },
  {
   "cell_type": "markdown",
   "id": "683a3867",
   "metadata": {},
   "source": [
    "# After sorting the association rules for France, you can create a bar graph\n",
    "\n",
    "# Set the number of top rules you want to visualize\n",
    "top_n_rules = 10\n",
    "\n",
    "# Select the top N rules with highest confidence and lift\n",
    "top_rules = rules.head(top_n_rules)\n",
    "\n",
    "# Create a bar graph to represent the top N rules for France\n",
    "plt.figure(figsize=(10, 6))\n",
    "plt.barh(range(top_n_rules), top_rules['confidence'], align='center', alpha=0.7, label='Confidence')\n",
    "plt.barh(range(top_n_rules), top_rules['lift'], align='center', alpha=0.7, color='red', label='Lift')\n",
    "plt.yticks(range(top_n_rules), top_rules['antecedents'].astype(str) + ' -> ' + top_rules['consequents'].astype(str))\n",
    "plt.xlabel('Metrics Value')\n",
    "plt.title(f'Top {top_n_rules} Association Rules for France')\n",
    "plt.legend()\n",
    "plt.gca().invert_yaxis()  # Invert the y-axis to display the most significant rules at the top\n",
    "plt.show()\n"
   ]
  },
  {
   "cell_type": "markdown",
   "id": "65013874",
   "metadata": {},
   "source": [
    "from wordcloud import WordCloud\n",
    "import matplotlib.pyplot as plt\n",
    "\n",
    "# Assuming you have already calculated and sorted the association rules for the UK\n",
    "# Use the top N rules or the rules you want to visualize\n",
    "top_n_rules = 10\n",
    "top_rules = rules.head(top_n_rules)\n",
    "\n",
    "# Create a text representation of the association rules\n",
    "rule_text = top_rules['antecedents'].astype(str) + ' -> ' + top_rules['consequents'].astype(str)\n",
    "rule_text = rule_text.str.cat(sep=' ')\n",
    "\n",
    "# Create a WordCloud object\n",
    "wordcloud = WordCloud(width=800, height=400, background_color='white').generate(rule_text)\n",
    "\n",
    "# Display the WordCloud image using matplotlib\n",
    "plt.figure(figsize=(10, 6))\n",
    "plt.imshow(wordcloud, interpolation='bilinear')\n",
    "plt.axis(\"off\")\n",
    "plt.title(f'Top {top_n_rules} Association Rules Word Cloud for the UK')\n",
    "plt.show()\n"
   ]
  },
  {
   "cell_type": "markdown",
   "id": "62dd2bcf",
   "metadata": {},
   "source": [
    "import matplotlib.pyplot as plt\n",
    "\n",
    "# Calculate the item frequencies in the UK dataset\n",
    "item_frequencies = basket_UK.sum().sort_values(ascending=False)\n",
    "\n",
    "# Set the number of top items you want to visualize\n",
    "top_n_items = 10\n",
    "\n",
    "# Select the top N items with the highest purchase frequencies\n",
    "top_items = item_frequencies.head(top_n_items)\n",
    "\n",
    "# Create a bar chart to represent the top N items and their frequencies\n",
    "plt.figure(figsize=(10, 6))\n",
    "top_items.plot(kind='bar', color='skyblue')\n",
    "plt.title(f'Top {top_n_items} Purchased Items in the UK')\n",
    "plt.xlabel('Item Description')\n",
    "plt.ylabel('Frequency')\n",
    "plt.xticks(rotation=45)\n",
    "plt.show()\n"
   ]
  },
  {
   "cell_type": "markdown",
   "id": "407b18f6",
   "metadata": {},
   "source": [
    "# Calculate the item frequencies in the Sweden dataset\n",
    "item_frequencies_sweden = basket_Sweden.sum().sort_values(ascending=False)\n",
    "\n",
    "# Set the number of top items you want to visualize\n",
    "top_n_items_sweden = 10\n",
    "\n",
    "# Select the top N items with the highest purchase frequencies in Sweden\n",
    "top_items_sweden = item_frequencies_sweden.head(top_n_items_sweden)\n",
    "\n",
    "# Create a bar chart to represent the top N items and their frequencies in Sweden\n",
    "plt.figure(figsize=(10, 6))\n",
    "top_items_sweden.plot(kind='bar', color='lightcoral')\n",
    "plt.title(f'Top {top_n_items_sweden} Purchased Items in Sweden')\n",
    "plt.xlabel('Item Description')\n",
    "plt.ylabel('Frequency')\n",
    "plt.xticks(rotation=45)\n",
    "plt.show()\n"
   ]
  },
  {
   "cell_type": "markdown",
   "id": "1b744d1b",
   "metadata": {},
   "source": [
    "# Calculate the item frequencies in the Portugal dataset\n",
    "item_frequencies_portugal = basket_Por.sum().sort_values(ascending=False)\n",
    "\n",
    "# Set the number of top items you want to visualize\n",
    "top_n_items_portugal = 10\n",
    "\n",
    "# Select the top N items with the highest purchase frequencies in Portugal\n",
    "top_items_portugal = item_frequencies_portugal.head(top_n_items_portugal)\n",
    "\n",
    "# Create a bar chart to represent the top N items and their frequencies in Portugal\n",
    "plt.figure(figsize=(10, 6))\n",
    "top_items_portugal.plot(kind='bar', color='lightgreen')\n",
    "plt.title(f'Top {top_n_items_portugal} Purchased Items in Portugal')\n",
    "plt.xlabel('Item Description')\n",
    "plt.ylabel('Frequency')\n",
    "plt.xticks(rotation=45)\n",
    "plt.show()\n",
    "\n"
   ]
  },
  {
   "cell_type": "markdown",
   "id": "27c183f7",
   "metadata": {},
   "source": [
    "# Calculate the item frequencies in the France dataset\n",
    "item_frequencies_france = basket_France.sum().sort_values(ascending=False)\n",
    "\n",
    "# Set the number of top items you want to visualize\n",
    "top_n_items_france = 10\n",
    "\n",
    "# Select the top N items with the highest purchase frequencies in France\n",
    "top_items_france = item_frequencies_france.head(top_n_items_france)\n",
    "\n",
    "# Create a bar chart to represent the top N items and their frequencies in France\n",
    "plt.figure(figsize=(10, 6))\n",
    "top_items_france.plot(kind='bar', color='lightblue')\n",
    "plt.title(f'Top {top_n_items_france} Purchased Items in France')\n",
    "plt.xlabel('Item Description')\n",
    "plt.ylabel('Frequency')\n",
    "plt.xticks(rotation=45)\n",
    "plt.show()"
   ]
  },
  {
   "cell_type": "markdown",
   "id": "91e1632a",
   "metadata": {},
   "source": []
  }
 ],
 "metadata": {
  "kernelspec": {
   "display_name": "Python 3 (ipykernel)",
   "language": "python",
   "name": "python3"
  },
  "language_info": {
   "codemirror_mode": {
    "name": "ipython",
    "version": 3
   },
   "file_extension": ".py",
   "mimetype": "text/x-python",
   "name": "python",
   "nbconvert_exporter": "python",
   "pygments_lexer": "ipython3",
   "version": "3.10.13"
  }
 },
 "nbformat": 4,
 "nbformat_minor": 5
}
